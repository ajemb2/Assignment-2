{
 "cells": [
  {
   "cell_type": "code",
   "execution_count": 4,
   "metadata": {
    "collapsed": true
   },
   "outputs": [],
   "source": [
    "import nltk\n",
    "from nltk.corpus import stopwords\n",
    "from sklearn.feature_extraction.text import TfidfVectorizer\n",
    "from sklearn.decomposition import TruncatedSVD"
   ]
  },
  {
   "cell_type": "code",
   "execution_count": 5,
   "metadata": {
    "collapsed": false
   },
   "outputs": [
    {
     "name": "stderr",
     "output_type": "stream",
     "text": [
      "WARNING:sklearn.datasets.twenty_newsgroups:Downloading dataset from http://people.csail.mit.edu/jrennie/20Newsgroups/20news-bydate.tar.gz (14 MB)\n"
     ]
    }
   ],
   "source": [
    "from sklearn.datasets import fetch_20newsgroups\n",
    "categories = ['rec.sport.baseball']\n",
    "dataset = fetch_20newsgroups(subset='all',shuffle=True, random_state=42, categories=categories)\n",
    "corpus = dataset.data"
   ]
  },
  {
   "cell_type": "code",
   "execution_count": 6,
   "metadata": {
    "collapsed": true
   },
   "outputs": [],
   "source": [
    "from sklearn.datasets import fetch_20newsgroups"
   ]
  },
  {
   "cell_type": "code",
   "execution_count": 7,
   "metadata": {
    "collapsed": true
   },
   "outputs": [],
   "source": [
    "categories = ['rec.sport.baseball']"
   ]
  },
  {
   "cell_type": "code",
   "execution_count": 8,
   "metadata": {
    "collapsed": true
   },
   "outputs": [],
   "source": [
    "dataset = fetch_20newsgroups(subset='all',shuffle=True, random_state=42, categories=categories)"
   ]
  },
  {
   "cell_type": "code",
   "execution_count": 9,
   "metadata": {
    "collapsed": true
   },
   "outputs": [],
   "source": [
    "corpus = dataset.data"
   ]
  },
  {
   "cell_type": "code",
   "execution_count": 10,
   "metadata": {
    "collapsed": false,
    "scrolled": true
   },
   "outputs": [
    {
     "name": "stdout",
     "output_type": "stream",
     "text": [
      "[nltk_data] Downloading package stopwords to\n",
      "[nltk_data]     C:\\Users\\alemayehu\\AppData\\Roaming\\nltk_data...\n",
      "[nltk_data]   Unzipping corpora\\stopwords.zip.\n"
     ]
    },
    {
     "data": {
      "text/plain": [
       "True"
      ]
     },
     "execution_count": 10,
     "metadata": {},
     "output_type": "execute_result"
    }
   ],
   "source": [
    "nltk.download('stopwords')"
   ]
  },
  {
   "cell_type": "code",
   "execution_count": 11,
   "metadata": {
    "collapsed": true
   },
   "outputs": [],
   "source": [
    "stopset = set(stopwords.words('english'))\n",
    "stopset.update(['lt','p','/p','br','amp','quot','field','font','normal','span','0px','rgb','style','51', \n",
    "                'spacing','text','helvetica','size','family', 'space', 'arial', 'height', 'indent', 'letter'\n",
    "                'line','none','sans','serif','transform','line','variant','weight','times', 'new','strong', 'video', 'title'\n",
    "                'white','word','letter', 'roman','0pt','16','color','12','14','21', 'neue', 'apple', 'class',  ])"
   ]
  },
  {
   "cell_type": "code",
   "execution_count": 12,
   "metadata": {
    "collapsed": false
   },
   "outputs": [
    {
     "data": {
      "text/plain": [
       "\"From: writingctr@leo.bsuvc.bsu.edu\\nSubject: Re: CUB fever.\\nOrganization: Ball State University, Muncie, In - Univ. Computing Svc's\\nLines: 21\\n\\n\\nIn article <kingoz.735285670@camelot>, kingoz@camelot.bradley.edu (Orin Roth) writes:\\n> \\n>    CUB fever is hitting me again. I'm beginning to think they have a \\n>    chance this year. (what the heck am i thinking?)\\n>    Sorry. Just a moment of incompetence.\\n>    I'll be ok. Really. \\n>    Orin.\\n>    Bradley U.\\n> \\n> --\\n> I'm really a jester in disguise!                                   \\nI hear ya!  Then again, we must remember that we are indeed Cub fans, and\\nthat the Cubs will eventually blow it.  After all, the Cubs are the easiest\\nteam in the National League to root for.  No Pressure.  You know they will\\nlose eventually.  Oh well, I suppose we must have faith.  After all, they\\ndo look pretty good, and they don't even have Sandberg back yet.  \\n\\nCUBS IN '93!!!!!\\n\\nCHA\\n\""
      ]
     },
     "execution_count": 12,
     "metadata": {},
     "output_type": "execute_result"
    }
   ],
   "source": [
    "corpus[0]"
   ]
  },
  {
   "cell_type": "code",
   "execution_count": 13,
   "metadata": {
    "collapsed": true
   },
   "outputs": [],
   "source": [
    "vectorizer = TfidfVectorizer(stop_words=stopset,\n",
    "                                 use_idf=True, ngram_range=(1, 3))"
   ]
  },
  {
   "cell_type": "code",
   "execution_count": 14,
   "metadata": {
    "collapsed": true
   },
   "outputs": [],
   "source": [
    "X = vectorizer.fit_transform(corpus)"
   ]
  },
  {
   "cell_type": "code",
   "execution_count": 15,
   "metadata": {
    "collapsed": false
   },
   "outputs": [
    {
     "data": {
      "text/plain": [
       "<1x188088 sparse matrix of type '<class 'numpy.float64'>'\n",
       "\twith 229 stored elements in Compressed Sparse Row format>"
      ]
     },
     "execution_count": 15,
     "metadata": {},
     "output_type": "execute_result"
    }
   ],
   "source": [
    "X[0]"
   ]
  },
  {
   "cell_type": "code",
   "execution_count": 16,
   "metadata": {
    "collapsed": false
   },
   "outputs": [
    {
     "name": "stdout",
     "output_type": "stream",
     "text": [
      "[0]\n"
     ]
    }
   ],
   "source": [
    "print([0])"
   ]
  },
  {
   "cell_type": "code",
   "execution_count": 17,
   "metadata": {
    "collapsed": false
   },
   "outputs": [
    {
     "name": "stdout",
     "output_type": "stream",
     "text": [
      "  (0, 184845)\t0.0739614450823\n",
      "  (0, 98618)\t0.0498392719888\n",
      "  (0, 38760)\t0.0508660032618\n",
      "  (0, 38750)\t0.0508660032618\n",
      "  (0, 59766)\t0.0238944824554\n",
      "  (0, 160356)\t0.0102587509246\n",
      "  (0, 51363)\t0.161996512624\n",
      "  (0, 67979)\t0.1253821105\n",
      "  (0, 120881)\t0.0103415667199\n",
      "  (0, 29461)\t0.0308265507854\n",
      "  (0, 157546)\t0.0374880148692\n",
      "  (0, 173892)\t0.0180626374482\n",
      "  (0, 113507)\t0.0611096618209\n",
      "  (0, 173856)\t0.039417195873\n",
      "  (0, 48163)\t0.0390694082984\n",
      "  (0, 162430)\t0.0611096618209\n",
      "  (0, 100274)\t0.0103208000105\n",
      "  (0, 25764)\t0.0161922460089\n",
      "  (0, 94387)\t0.111160461941\n",
      "  (0, 16584)\t0.0739614450823\n",
      "  (0, 40682)\t0.105257944488\n",
      "  (0, 37508)\t0.0996785439776\n",
      "  (0, 121494)\t0.111160461941\n",
      "  (0, 142480)\t0.0555802309707\n",
      "  (0, 183911)\t0.015655015889\n",
      "  :\t:\n",
      "  (0, 64172)\t0.0739614450823\n",
      "  (0, 35716)\t0.0739614450823\n",
      "  (0, 51481)\t0.0739614450823\n",
      "  (0, 59267)\t0.0739614450823\n",
      "  (0, 164212)\t0.0739614450823\n",
      "  (0, 114349)\t0.0739614450823\n",
      "  (0, 97593)\t0.0739614450823\n",
      "  (0, 142244)\t0.0739614450823\n",
      "  (0, 132283)\t0.0739614450823\n",
      "  (0, 94983)\t0.0739614450823\n",
      "  (0, 103114)\t0.0739614450823\n",
      "  (0, 64186)\t0.0739614450823\n",
      "  (0, 118825)\t0.0739614450823\n",
      "  (0, 179412)\t0.0739614450823\n",
      "  (0, 161841)\t0.0739614450823\n",
      "  (0, 113709)\t0.0739614450823\n",
      "  (0, 66435)\t0.0739614450823\n",
      "  (0, 102622)\t0.0739614450823\n",
      "  (0, 132368)\t0.0739614450823\n",
      "  (0, 77593)\t0.0739614450823\n",
      "  (0, 64046)\t0.0739614450823\n",
      "  (0, 145086)\t0.0739614450823\n",
      "  (0, 28939)\t0.0739614450823\n",
      "  (0, 187358)\t0.0739614450823\n",
      "  (0, 51441)\t0.0739614450823\n"
     ]
    }
   ],
   "source": [
    "print(X[0])"
   ]
  },
  {
   "cell_type": "code",
   "execution_count": 18,
   "metadata": {
    "collapsed": false
   },
   "outputs": [
    {
     "data": {
      "text/plain": [
       "(994, 188088)"
      ]
     },
     "execution_count": 18,
     "metadata": {},
     "output_type": "execute_result"
    }
   ],
   "source": [
    "X.shape"
   ]
  },
  {
   "cell_type": "code",
   "execution_count": 25,
   "metadata": {
    "collapsed": true
   },
   "outputs": [],
   "source": [
    "lsa = TruncatedSVD(n_components=10, n_iter=100,\n",
    "       random_state=None, tol=0.0)"
   ]
  },
  {
   "cell_type": "code",
   "execution_count": 26,
   "metadata": {
    "collapsed": false
   },
   "outputs": [
    {
     "data": {
      "text/plain": [
       "TruncatedSVD(algorithm='randomized', n_components=10, n_iter=100,\n",
       "       random_state=None, tol=0.0)"
      ]
     },
     "execution_count": 26,
     "metadata": {},
     "output_type": "execute_result"
    }
   ],
   "source": [
    "lsa.fit(X)"
   ]
  },
  {
   "cell_type": "code",
   "execution_count": 27,
   "metadata": {
    "collapsed": false
   },
   "outputs": [
    {
     "data": {
      "text/plain": [
       "array([ 0.01601322,  0.00499985,  0.00078314, ...,  0.00105261,\n",
       "        0.00105261,  0.00105261])"
      ]
     },
     "execution_count": 27,
     "metadata": {},
     "output_type": "execute_result"
    }
   ],
   "source": [
    "lsa.components_[0]"
   ]
  },
  {
   "cell_type": "code",
   "execution_count": 28,
   "metadata": {
    "collapsed": false
   },
   "outputs": [
    {
     "data": {
      "text/plain": [
       "TruncatedSVD(algorithm='randomized', n_components=10, n_iter=100,\n",
       "       random_state=None, tol=0.0)"
      ]
     },
     "execution_count": 28,
     "metadata": {},
     "output_type": "execute_result"
    }
   ],
   "source": [
    "lsa = TruncatedSVD(n_components=10, n_iter=100)\n",
    "lsa.fit(X)"
   ]
  },
  {
   "cell_type": "code",
   "execution_count": 29,
   "metadata": {
    "collapsed": false
   },
   "outputs": [
    {
     "data": {
      "text/plain": [
       "array([-0.0098717 , -0.00295137, -0.0006629 , ..., -0.00051765,\n",
       "       -0.00051765, -0.00051765])"
      ]
     },
     "execution_count": 29,
     "metadata": {},
     "output_type": "execute_result"
    }
   ],
   "source": [
    "lsa.components_[1]"
   ]
  },
  {
   "cell_type": "code",
   "execution_count": 30,
   "metadata": {
    "collapsed": false
   },
   "outputs": [
    {
     "data": {
      "text/plain": [
       "array([ 0.02401288,  0.00544923,  0.00208006, ...,  0.00021722,\n",
       "        0.00021722,  0.00021722])"
      ]
     },
     "execution_count": 30,
     "metadata": {},
     "output_type": "execute_result"
    }
   ],
   "source": [
    "lsa.components_[2]"
   ]
  },
  {
   "cell_type": "code",
   "execution_count": 31,
   "metadata": {
    "collapsed": false
   },
   "outputs": [
    {
     "name": "stdout",
     "output_type": "stream",
     "text": [
      "3.6.0 |Anaconda 4.3.0 (32-bit)| (default, Dec 23 2016, 12:06:52) [MSC v.1900 32 bit (Intel)]\n"
     ]
    }
   ],
   "source": [
    "import sys\n",
    "print (sys.version)"
   ]
  },
  {
   "cell_type": "code",
   "execution_count": 32,
   "metadata": {
    "collapsed": false
   },
   "outputs": [
    {
     "name": "stdout",
     "output_type": "stream",
     "text": [
      "Concept 0:\n",
      "edu\n",
      "com\n",
      "year\n",
      "writes\n",
      "team\n",
      "would\n",
      "game\n",
      "article\n",
      "cs\n",
      "baseball\n",
      " \n",
      "Concept 1:\n",
      "jewish\n",
      "lafayette\n",
      "lafibm\n",
      "vb30\n",
      "jewish baseball\n",
      "edu vb30\n",
      "lafayette edu\n",
      "lafayette edu vb30\n",
      "lafibm lafayette\n",
      "lafibm lafayette edu\n",
      " \n",
      "Concept 2:\n",
      "indiana\n",
      "journalism\n",
      "journalism indiana\n",
      "journalism indiana edu\n",
      "indiana edu\n",
      "dwarner\n",
      "dwarner journalism\n",
      "dwarner journalism indiana\n",
      "03\n",
      "02\n",
      " \n",
      "Concept 3:\n",
      "03\n",
      "02\n",
      "04\n",
      "05\n",
      "01\n",
      "lost\n",
      "06\n",
      "03 03\n",
      "07\n",
      "00\n",
      " \n",
      "Concept 4:\n",
      "duke\n",
      "gatech\n",
      "duke edu\n",
      "gatech edu\n",
      "prism\n",
      "econ duke\n",
      "econ\n",
      "georgia\n",
      "econ duke edu\n",
      "fls\n",
      " \n",
      "Concept 5:\n",
      "gatech\n",
      "prism\n",
      "gatech edu\n",
      "georgia\n",
      "prism gatech\n",
      "prism gatech edu\n",
      "gt0523e\n",
      "mule\n",
      "michael\n",
      "institute technology\n",
      " \n",
      "Concept 6:\n",
      "ibm\n",
      "aix\n",
      "kingston\n",
      "ibm com\n",
      "mjones\n",
      "aix kingston\n",
      "aix kingston ibm\n",
      "kingston ibm\n",
      "kingston ibm com\n",
      "com\n",
      " \n",
      "Concept 7:\n",
      "bonds\n",
      "williams\n",
      "batting\n",
      "stanford\n",
      "batting 4th\n",
      "punjabi\n",
      "4th\n",
      "leland\n",
      "leland stanford\n",
      "leland stanford edu\n",
      " \n",
      "Concept 8:\n",
      "tesla\n",
      "njit\n",
      "njit edu\n",
      "tesla njit\n",
      "tesla njit edu\n",
      "best first\n",
      "mattingly\n",
      "drm6640\n",
      "drm6640 tesla\n",
      "drm6640 tesla njit\n",
      " \n",
      "Concept 9:\n",
      "jhu\n",
      "jhu edu\n",
      "hcf\n",
      "hcf jhu\n",
      "hcf jhu edu\n",
      "jhunix\n",
      "jhunix hcf\n",
      "jhunix hcf jhu\n",
      "morris\n",
      "admiral\n",
      " \n"
     ]
    }
   ],
   "source": [
    "terms = vectorizer.get_feature_names()\n",
    "for i, comp in enumerate(lsa.components_): \n",
    "    termsInComp = zip (terms,comp)\n",
    "    sortedTerms =  sorted(termsInComp, key=lambda x: x[1], reverse=True) [:10]\n",
    "    print(\"Concept %d:\" % i )\n",
    "    for term in sortedTerms:\n",
    "        print(term[0])\n",
    "    print (\" \")"
   ]
  },
  {
   "cell_type": "code",
   "execution_count": null,
   "metadata": {
    "collapsed": true
   },
   "outputs": [],
   "source": []
  }
 ],
 "metadata": {
  "kernelspec": {
   "display_name": "Python 3",
   "language": "python",
   "name": "python3"
  },
  "language_info": {
   "codemirror_mode": {
    "name": "ipython",
    "version": 3
   },
   "file_extension": ".py",
   "mimetype": "text/x-python",
   "name": "python",
   "nbconvert_exporter": "python",
   "pygments_lexer": "ipython3",
   "version": "3.6.0"
  }
 },
 "nbformat": 4,
 "nbformat_minor": 2
}
